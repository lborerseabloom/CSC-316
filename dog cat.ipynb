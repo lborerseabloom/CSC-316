{
 "cells": [
  {
   "cell_type": "code",
   "execution_count": 2,
   "id": "71fa07cb",
   "metadata": {},
   "outputs": [],
   "source": [
    "import pandas as pd\n",
    "import tensorflow as tf\n",
    "import numpy as np\n",
    "import os\n",
    "from PIL import Image\n"
   ]
  },
  {
   "cell_type": "code",
   "execution_count": null,
   "id": "8805f81a",
   "metadata": {},
   "outputs": [
    {
     "name": "stdout",
     "output_type": "stream",
     "text": [
      "oops\n",
      "oops\n"
     ]
    },
    {
     "name": "stderr",
     "output_type": "stream",
     "text": [
      "c:\\Users\\Mail Moolbaes\\anaconda3\\Lib\\site-packages\\PIL\\TiffImagePlugin.py:900: UserWarning: Truncated File Read\n",
      "  warnings.warn(str(msg))\n"
     ]
    },
    {
     "name": "stdout",
     "output_type": "stream",
     "text": [
      "Corrupted images found: 2\n"
     ]
    }
   ],
   "source": [
    "bad_images = []\n",
    "for subdir, _, files in os.walk(\"PetImages/\"):\n",
    "    for file in files:\n",
    "        if file.lower().endswith(('.jpg', '.jpeg', '.png')):\n",
    "            img_path = os.path.join(subdir, file)\n",
    "            try:\n",
    "                img = Image.open(img_path)\n",
    "                img.verify()  # Check if image is corrupted\n",
    "            except:\n",
    "                print('oops')\n",
    "                bad_images.append(img_path)\n",
    "\n",
    "print(\"Corrupted images found:\", len(bad_images))\n",
    "print(bad_images)"
   ]
  },
  {
   "cell_type": "code",
   "execution_count": null,
   "id": "debba975",
   "metadata": {},
   "outputs": [
    {
     "name": "stderr",
     "output_type": "stream",
     "text": [
      "c:\\Users\\Mail Moolbaes\\anaconda3\\Lib\\site-packages\\PIL\\TiffImagePlugin.py:900: UserWarning: Truncated File Read\n",
      "  warnings.warn(str(msg))\n"
     ]
    }
   ],
   "source": [
    "image_folder = \"PetImages/\"\n",
    "img_size = (64, 64)\n",
    "\n",
    "images = []\n",
    "labels = []\n",
    "\n",
    "class_names = sorted([d for d in os.listdir(image_folder) if os.path.isdir(os.path.join(image_folder, d))])\n",
    "print(class_names)\n",
    "\n",
    "for label, class_name in enumerate(class_names):\n",
    "    class_dir = os.path.join(image_folder, class_name)\n",
    "    for file in os.listdir(class_dir):\n",
    "        if file.lower().endswith(\".jpg\"):  # Only JPEGs\n",
    "            img_path = os.path.join(class_dir, file)\n",
    "            try:\n",
    "                img = Image.open(img_path).convert(\"RGB\").resize(img_size)\n",
    "                img_array = np.array(img).flatten() / 255.0  # Flatten to 1D for tabular\n",
    "                images.append(img_array)\n",
    "                labels.append(label)\n",
    "            except:\n",
    "                print('oops')\n",
    "                continue\n",
    "\n",
    "# Create the DataFrame\n",
    "df = pd.DataFrame(images)\n",
    "df['label'] = labels\n",
    "\n",
    "print(df.shape)\n",
    "print(df.head())"
   ]
  }
 ],
 "metadata": {
  "kernelspec": {
   "display_name": "base",
   "language": "python",
   "name": "python3"
  },
  "language_info": {
   "codemirror_mode": {
    "name": "ipython",
    "version": 3
   },
   "file_extension": ".py",
   "mimetype": "text/x-python",
   "name": "python",
   "nbconvert_exporter": "python",
   "pygments_lexer": "ipython3",
   "version": "3.12.7"
  }
 },
 "nbformat": 4,
 "nbformat_minor": 5
}
