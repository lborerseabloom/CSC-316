{
 "cells": [
  {
   "cell_type": "code",
   "execution_count": 2,
   "id": "fca62dd2",
   "metadata": {},
   "outputs": [],
   "source": [
    "import pandas as pd\n",
    "import tensorflow as tf\n",
    "from tensorflow.keras import layers, models\n",
    "import numpy as np\n",
    "\n",
    "from sklearn.model_selection import train_test_split"
   ]
  },
  {
   "cell_type": "code",
   "execution_count": 3,
   "id": "de45de61",
   "metadata": {},
   "outputs": [
    {
     "name": "stdout",
     "output_type": "stream",
     "text": [
      "train:(350808,)\n",
      "test:(87703,)\n",
      "val:(48724,)\n"
     ]
    }
   ],
   "source": [
    "df = pd.read_csv('AI_Human.csv')\n",
    "texts = df['text']\n",
    "labels = df['generated']\n",
    "text_train, text_val, label_train, label_val = train_test_split(texts, labels, test_size=.1, random_state=12)\n",
    "text_train, text_test, label_train, label_test = train_test_split(text_train, label_train, test_size=.2, random_state=12)\n",
    "print('train:' + str(text_train.shape))\n",
    "print('test:' + str(text_test.shape))\n",
    "print('val:' + str(text_val.shape))"
   ]
  },
  {
   "cell_type": "code",
   "execution_count": 4,
   "id": "8335fd32",
   "metadata": {},
   "outputs": [
    {
     "name": "stdout",
     "output_type": "stream",
     "text": [
      "Min length: 0\n",
      "Max length: 1668\n",
      "Mean length: 393.14396193929446\n",
      "95th percentile length: 722\n"
     ]
    }
   ],
   "source": [
    "lengths = text_train.str.split().apply(len)\n",
    "\n",
    "print(\"Min length:\", np.min(lengths))\n",
    "print(\"Max length:\", np.max(lengths))\n",
    "print(\"Mean length:\", np.mean(lengths))\n",
    "\n",
    "percentile_95 = int(np.percentile(lengths, 95))\n",
    "print(\"95th percentile length:\", percentile_95)\n",
    "\n",
    "# detirmines the max len of text to vectorize\n",
    "max_len = percentile_95 # A good choice is the 95th percentile for len\n"
   ]
  },
  {
   "cell_type": "code",
   "execution_count": null,
   "id": "89a1ac99",
   "metadata": {},
   "outputs": [],
   "source": [
    "max_tokens = 5000   # vocabulary size, counts tokens/words by frequency and any token not in the top 5000 all become\n",
    "\n",
    "vectorizer = layers.TextVectorization(\n",
    "    max_tokens=max_tokens,\n",
    "    output_mode=\"int\",\n",
    "    output_sequence_length=max_len\n",
    ")\n",
    "\n",
    "# Adapt vectorizer on your text data\n",
    "vectorizer.adapt(text_train)\n",
    "vectorizer.adapt(text_tes)\n",
    "# Vectorize dataset\n",
    "X = vectorizer(np.array(texts))\n",
    "X = vectorizer(np.array(texts))\n",
    "\n",
    "y = np.array(labels)"
   ]
  },
  {
   "cell_type": "code",
   "execution_count": 6,
   "id": "c2f5f321",
   "metadata": {},
   "outputs": [],
   "source": [
    "embed_dim = 64\n",
    "hidden_dim = 128\n",
    "\n",
    "model = models.Sequential([\n",
    "    vectorizer,  # tokenization built into the model\n",
    "    layers.Embedding(max_tokens, embed_dim, mask_zero=True),\n",
    "    layers.GlobalAveragePooling1D(),\n",
    "    layers.Dense(hidden_dim, activation=\"relu\"),\n",
    "    layers.Dense(1, activation=\"sigmoid\")\n",
    "])\n",
    "\n",
    "model.compile(optimizer=\"adam\", loss=\"binary_crossentropy\", metrics=[\"accuracy\"])"
   ]
  },
  {
   "cell_type": "code",
   "execution_count": null,
   "id": "5099f475",
   "metadata": {},
   "outputs": [],
   "source": [
    "history = model.fit(\n",
    "    train_X, train_y,\n",
    "    validation_data=(val_X, val_y),\n",
    "    epochs=5,\n",
    "    batch_size=2\n",
    ")\n"
   ]
  }
 ],
 "metadata": {
  "kernelspec": {
   "display_name": "Python 3",
   "language": "python",
   "name": "python3"
  },
  "language_info": {
   "codemirror_mode": {
    "name": "ipython",
    "version": 3
   },
   "file_extension": ".py",
   "mimetype": "text/x-python",
   "name": "python",
   "nbconvert_exporter": "python",
   "pygments_lexer": "ipython3",
   "version": "3.11.9"
  }
 },
 "nbformat": 4,
 "nbformat_minor": 5
}
