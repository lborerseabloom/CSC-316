{
 "cells": [
  {
   "cell_type": "code",
   "execution_count": 27,
   "id": "f6a6a15e",
   "metadata": {},
   "outputs": [],
   "source": [
    "# 2.2m housing data\n",
    "\n",
    "# cleaning -drop nas\n",
    "\n",
    "# modeling\n",
    "# linear regression\n",
    "# ridge regression w/o optimizaton\n",
    "# compare performance metrics\n",
    "\n",
    "# hypertuning for ridge\n",
    "# compare with w/o hypertuning\n",
    "\n",
    "# observations about process"
   ]
  },
  {
   "cell_type": "code",
   "execution_count": null,
   "id": "4546cd96",
   "metadata": {},
   "outputs": [],
   "source": [
    "import pandas as pd\n",
    "import matplotlib.pyplot as plt\n",
    "import numpy as np\n",
    "\n",
    "from scipy.sparse import hstack, csr_matrix\n",
    "\n",
    "from sklearn.linear_model import LinearRegression, Ridge\n",
    "from sklearn.model_selection import train_test_split, GridSearchCV\n",
    "from sklearn.metrics import mean_squared_error, r2_score, precision_score, confusion_matrix\n",
    "from sklearn.preprocessing import OneHotEncoder, StandardScaler"
   ]
  },
  {
   "cell_type": "code",
   "execution_count": 29,
   "id": "4b27b1e8",
   "metadata": {},
   "outputs": [],
   "source": [
    "housing_data = pd.read_csv('realtor-data.csv')\n",
    "housing_data = housing_data.dropna()"
   ]
  },
  {
   "cell_type": "code",
   "execution_count": null,
   "id": "ab9483a2",
   "metadata": {},
   "outputs": [],
   "source": [
    "# extract year from time column\n",
    "housing_data['prev_sold_date'] = pd.to_datetime(housing_data['prev_sold_date'])\n",
    "housing_data['sold_year'] = housing_data['prev_sold_date'].dt.year\n",
    "\n",
    "# feature/target split\n",
    "x = housing_data.drop(['price'], axis=1)\n",
    "y = housing_data['price']\n",
    "\n",
    "\n",
    "scaler = StandardScaler()\n",
    " = scaler.fit_transform(X_train)\n",
    "X_test_scaled = scaler.transform(X_test)\n",
    "\n",
    "# sparse matrix from categorical\n",
    "encoder = OneHotEncoder(dtype=int)\n",
    "cat_x_sparse_encoded = encoder.fit_transform(x[['brokered_by', 'status', 'street', 'city', 'state', 'zip_code', 'bed', 'bath', 'sold_year']])  \n",
    "\n",
    "# sparse matrix from numeric\n",
    "numerical_x_values = x[['acre_lot', 'house_size']].values # 'bed', 'bath' better as categorical \n",
    "num_x_sparse_encoded = csr_matrix(numerical_x_values)\n",
    "\n",
    "\n",
    "tot_x_sparse = hstack([num_x_sparse_encoded, cat_x_sparse_encoded])\n"
   ]
  },
  {
   "cell_type": "code",
   "execution_count": 31,
   "id": "524e2da9",
   "metadata": {},
   "outputs": [
    {
     "name": "stdout",
     "output_type": "stream",
     "text": [
      "Root Mean Squared Error: 767478.3013225631\n",
      "R² Score: 0.4675655662702063\n"
     ]
    }
   ],
   "source": [
    "# can place sparse matrix directly into the models data\n",
    "x_train, x_test, y_train, y_test = train_test_split(tot_x_sparse, y, train_size=.8, random_state = 42)\n",
    "\n",
    "LinearModel = LinearRegression()\n",
    "LinearModel.fit(x_train, y_train)\n",
    "\n",
    "# predict\n",
    "linear_y_pred = LinearModel.predict(x_test)\n",
    "\n",
    "# model metrics\n",
    "#print(\"Intercept:\", LinearModel.intercept_)\n",
    "#print(\"Coefficients:\", model.coef_)\n",
    "\n",
    "linear_rmse = np.sqrt(mean_squared_error(y_test, linear_y_pred))\n",
    "linear_r2 = r2_score(y_test, linear_y_pred)\n",
    "\n",
    "print(\"Root Mean Squared Error:\", linear_rmse)\n",
    "print(\"R² Score:\", linear_r2)"
   ]
  },
  {
   "cell_type": "code",
   "execution_count": 32,
   "id": "6a7d0958",
   "metadata": {},
   "outputs": [
    {
     "name": "stdout",
     "output_type": "stream",
     "text": [
      "Root Mean Squared Error: 692011.2010981624\n",
      "R² Score: 0.5671273254480658\n"
     ]
    }
   ],
   "source": [
    "# fit and predict\n",
    "RidgeModel = Ridge(alpha=1.0)\n",
    "RidgeModel.fit(x_train, y_train)\n",
    "\n",
    "ridge_y_pred = RidgeModel.predict(x_test)\n",
    "\n",
    "# model metrics\n",
    "ridge_rmse = np.sqrt(mean_squared_error(y_test, ridge_y_pred))\n",
    "ridge_r2 = r2_score(y_test, ridge_y_pred)\n",
    "\n",
    "print(\"Root Mean Squared Error:\", ridge_rmse)\n",
    "print(\"R² Score:\", ridge_r2)"
   ]
  },
  {
   "cell_type": "code",
   "execution_count": 34,
   "id": "51f88f5c",
   "metadata": {},
   "outputs": [],
   "source": [
    "ridge = Ridge()\n",
    "param_grid = {'alpha': [0.01, 0.1, 1, 10, 50, 100, 200]}"
   ]
  },
  {
   "cell_type": "code",
   "execution_count": null,
   "id": "ec9b670a",
   "metadata": {},
   "outputs": [],
   "source": [
    "grid = GridSearchCV(ridge, param_grid, cv=5, scoring='neg_mean_squared_error')\n",
    "\n",
    "grid.fit(x_train, y_train)\n",
    "\n",
    "print(\"Best alpha:\", grid.best_params_['alpha'])\n",
    "print(\"Best CV score:\", -grid.best_score_)"
   ]
  },
  {
   "cell_type": "code",
   "execution_count": null,
   "id": "7d74ecca",
   "metadata": {},
   "outputs": [],
   "source": []
  }
 ],
 "metadata": {
  "kernelspec": {
   "display_name": "base",
   "language": "python",
   "name": "python3"
  },
  "language_info": {
   "codemirror_mode": {
    "name": "ipython",
    "version": 3
   },
   "file_extension": ".py",
   "mimetype": "text/x-python",
   "name": "python",
   "nbconvert_exporter": "python",
   "pygments_lexer": "ipython3",
   "version": "3.12.7"
  }
 },
 "nbformat": 4,
 "nbformat_minor": 5
}
