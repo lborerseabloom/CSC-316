{
 "cells": [
  {
   "cell_type": "code",
   "execution_count": null,
   "id": "f6a6a15e",
   "metadata": {},
   "outputs": [],
   "source": [
    "# 2.2m housing data\n",
    "\n",
    "# cleaning -drop nas\n",
    "\n",
    "# modeling\n",
    "# linear regression\n",
    "# ridge regression w/o optimizaton\n",
    "# compare performance metrics\n",
    "\n",
    "# hypertuning for ridge\n",
    "# compare with w/o hypertuning\n",
    "\n",
    "# observations about process"
   ]
  }
 ],
 "metadata": {
  "language_info": {
   "name": "python"
  }
 },
 "nbformat": 4,
 "nbformat_minor": 5
}
