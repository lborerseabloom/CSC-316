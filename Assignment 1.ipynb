{
 "cells": [
  {
   "cell_type": "code",
   "execution_count": null,
   "id": "f6a6a15e",
   "metadata": {},
   "outputs": [],
   "source": [
    "# 2.2m housing data\n",
    "\n",
    "# cleaning -drop nas\n",
    "\n",
    "# modeling\n",
    "# linear regression\n",
    "# ridge regression w/o optimizaton\n",
    "# compare performance metrics\n",
    "\n",
    "# hypertuning for ridge\n",
    "# compare with w/o hypertuning\n",
    "\n",
    "# observations about process"
   ]
  },
  {
   "cell_type": "code",
   "execution_count": 1,
   "id": "4546cd96",
   "metadata": {},
   "outputs": [],
   "source": [
    "import pandas as pd\n",
    "import matplotlib.pyplot as plt\n",
    "import numpy as np\n",
    "\n",
    "from sklearn.linear_model import LinearRegression\n",
    "from sklearn.model_selection import train_test_split\n",
    "from sklearn.metrics import mean_squared_error, r2_score, precision_score, confusion_matrix"
   ]
  }
 ],
 "metadata": {
  "kernelspec": {
   "display_name": "base",
   "language": "python",
   "name": "python3"
  },
  "language_info": {
   "codemirror_mode": {
    "name": "ipython",
    "version": 3
   },
   "file_extension": ".py",
   "mimetype": "text/x-python",
   "name": "python",
   "nbconvert_exporter": "python",
   "pygments_lexer": "ipython3",
   "version": "3.12.7"
  }
 },
 "nbformat": 4,
 "nbformat_minor": 5
}
